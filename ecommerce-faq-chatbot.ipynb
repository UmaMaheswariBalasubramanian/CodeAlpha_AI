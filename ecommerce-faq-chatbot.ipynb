{
 "cells": [
  {
   "cell_type": "code",
   "execution_count": 1,
   "id": "58d3b592",
   "metadata": {
    "_cell_guid": "b1076dfc-b9ad-4769-8c92-a6c4dae69d19",
    "_uuid": "8f2839f25d086af736a60e9eeb907d3b93b6e0e5",
    "execution": {
     "iopub.execute_input": "2023-05-19T21:52:53.402421Z",
     "iopub.status.busy": "2023-05-19T21:52:53.401805Z",
     "iopub.status.idle": "2023-05-19T21:52:53.418551Z",
     "shell.execute_reply": "2023-05-19T21:52:53.417756Z"
    },
    "papermill": {
     "duration": 0.023847,
     "end_time": "2023-05-19T21:52:53.420980",
     "exception": false,
     "start_time": "2023-05-19T21:52:53.397133",
     "status": "completed"
    },
    "tags": []
   },
   "outputs": [
    {
     "name": "stdout",
     "output_type": "stream",
     "text": [
      "/kaggle/input/ecommerce-faq-chatbot-dataset/Ecommerce_FAQ_Chatbot_dataset.json\n"
     ]
    }
   ],
   "source": [
    "# This Python 3 environment comes with many helpful analytics libraries installed\n",
    "# It is defined by the kaggle/python Docker image: https://github.com/kaggle/docker-python\n",
    "# For example, here's several helpful packages to load\n",
    "\n",
    "import numpy as np # linear algebra\n",
    "import pandas as pd # data processing, CSV file I/O (e.g. pd.read_csv)\n",
    "\n",
    "# Input data files are available in the read-only \"../input/\" directory\n",
    "# For example, running this (by clicking run or pressing Shift+Enter) will list all files under the input directory\n",
    "\n",
    "import os\n",
    "for dirname, _, filenames in os.walk('/kaggle/input'):\n",
    "    for filename in filenames:\n",
    "        print(os.path.join(dirname, filename))\n",
    "\n",
    "# You can write up to 20GB to the current directory (/kaggle/working/) that gets preserved as output when you create a version using \"Save & Run All\" \n",
    "# You can also write temporary files to /kaggle/temp/, but they won't be saved outside of the current session"
   ]
  },
  {
   "cell_type": "code",
   "execution_count": 2,
   "id": "2af69136",
   "metadata": {
    "execution": {
     "iopub.execute_input": "2023-05-19T21:52:53.430501Z",
     "iopub.status.busy": "2023-05-19T21:52:53.429716Z",
     "iopub.status.idle": "2023-05-19T21:52:53.434411Z",
     "shell.execute_reply": "2023-05-19T21:52:53.433604Z"
    },
    "papermill": {
     "duration": 0.010914,
     "end_time": "2023-05-19T21:52:53.436533",
     "exception": false,
     "start_time": "2023-05-19T21:52:53.425619",
     "status": "completed"
    },
    "tags": []
   },
   "outputs": [],
   "source": [
    "import json\n",
    "from difflib import get_close_matches\n"
   ]
  },
  {
   "cell_type": "code",
   "execution_count": 3,
   "id": "8bb43616",
   "metadata": {
    "execution": {
     "iopub.execute_input": "2023-05-19T21:52:53.444735Z",
     "iopub.status.busy": "2023-05-19T21:52:53.443671Z",
     "iopub.status.idle": "2023-05-19T21:52:53.456248Z",
     "shell.execute_reply": "2023-05-19T21:52:53.454781Z"
    },
    "papermill": {
     "duration": 0.019129,
     "end_time": "2023-05-19T21:52:53.458679",
     "exception": false,
     "start_time": "2023-05-19T21:52:53.439550",
     "status": "completed"
    },
    "tags": []
   },
   "outputs": [],
   "source": [
    "\n",
    "\n",
    "# Load the knowledge base from a JSON file\n",
    "def load_knowledge_base(file_path: str):\n",
    "    \"\"\"\n",
    "    Read the knowledge base from a JSON file.\n",
    "\n",
    "    :param file_path: The path to the JSON file containing the knowledge base.\n",
    "    :return: A dictionary with the knowledge base data.\n",
    "    \"\"\"\n",
    "    with open(file_path, 'r') as file:\n",
    "        data: dict = json.load(file)\n",
    "    return data\n",
    "\n",
    "\n",
    "\n",
    "\n",
    "\n",
    "# Find the closest matching question\n",
    "def find_best_match(user_question: str, questions: list[str]) -> str | None:\n",
    "\n",
    "    matches: list = get_close_matches(user_question, questions, n=1, cutoff=0.6)\n",
    "    return matches[0] if matches else None\n",
    "\n",
    "\n",
    "def get_answer_for_question(question: str, knowledge_base: dict) -> str | None:\n",
    "\n",
    "    for q in knowledge_base[\"questions\"]:\n",
    "        if q[\"question\"] == question:\n",
    "            return q[\"answer\"]\n",
    "    return None\n",
    "\n",
    "\n",
    "# Main function to handle user input and respond\n",
    "def chatbot():\n",
    "\n",
    "    knowledge_base: dict = load_knowledge_base('/kaggle/input/ecommerce-faq-chatbot-dataset/Ecommerce_FAQ_Chatbot_dataset.json')\n",
    "\n",
    "    while True:\n",
    "        user_input: str = input(\"You: \")\n",
    "\n",
    "        if user_input.lower() == 'quit':\n",
    "            break\n",
    "\n",
    "        # Finds the best match, otherwise returns None\n",
    "        best_match: str | None = find_best_match(user_input, [q[\"question\"] for q in knowledge_base[\"questions\"]])\n",
    "\n",
    "        if best_match:\n",
    "            # If there is a best match, return the answer from the knowledge base\n",
    "            answer: str = get_answer_for_question(best_match, knowledge_base)\n",
    "            print(f\"Bot: {answer}\")\n",
    "        else:\n",
    "            print(\"Bot: I don't know the answer. Can you teach me?\")\n",
    "            new_answer: str = input(\"Type the answer or 'skip' to skip: \")\n",
    "\n",
    "\n",
    "\n",
    "\n",
    "\n"
   ]
  },
  {
   "cell_type": "code",
   "execution_count": 4,
   "id": "fc5f2640",
   "metadata": {
    "execution": {
     "iopub.execute_input": "2023-05-19T21:52:53.466620Z",
     "iopub.status.busy": "2023-05-19T21:52:53.465694Z",
     "iopub.status.idle": "2023-05-19T21:52:54.009482Z",
     "shell.execute_reply": "2023-05-19T21:52:54.008068Z"
    },
    "papermill": {
     "duration": 0.549879,
     "end_time": "2023-05-19T21:52:54.011493",
     "exception": true,
     "start_time": "2023-05-19T21:52:53.461614",
     "status": "failed"
    },
    "tags": []
   },
   "outputs": [
    {
     "ename": "StdinNotImplementedError",
     "evalue": "raw_input was called, but this frontend does not support input requests.",
     "output_type": "error",
     "traceback": [
      "\u001b[0;31m---------------------------------------------------------------------------\u001b[0m",
      "\u001b[0;31mStdinNotImplementedError\u001b[0m                  Traceback (most recent call last)",
      "Cell \u001b[0;32mIn[4], line 2\u001b[0m\n\u001b[1;32m      1\u001b[0m \u001b[38;5;28;01mif\u001b[39;00m \u001b[38;5;18m__name__\u001b[39m \u001b[38;5;241m==\u001b[39m \u001b[38;5;124m\"\u001b[39m\u001b[38;5;124m__main__\u001b[39m\u001b[38;5;124m\"\u001b[39m:\n\u001b[0;32m----> 2\u001b[0m     \u001b[43mchatbot\u001b[49m\u001b[43m(\u001b[49m\u001b[43m)\u001b[49m\n",
      "Cell \u001b[0;32mIn[3], line 38\u001b[0m, in \u001b[0;36mchatbot\u001b[0;34m()\u001b[0m\n\u001b[1;32m     35\u001b[0m knowledge_base: \u001b[38;5;28mdict\u001b[39m \u001b[38;5;241m=\u001b[39m load_knowledge_base(\u001b[38;5;124m'\u001b[39m\u001b[38;5;124m/kaggle/input/ecommerce-faq-chatbot-dataset/Ecommerce_FAQ_Chatbot_dataset.json\u001b[39m\u001b[38;5;124m'\u001b[39m)\n\u001b[1;32m     37\u001b[0m \u001b[38;5;28;01mwhile\u001b[39;00m \u001b[38;5;28;01mTrue\u001b[39;00m:\n\u001b[0;32m---> 38\u001b[0m     user_input: \u001b[38;5;28mstr\u001b[39m \u001b[38;5;241m=\u001b[39m \u001b[38;5;28;43minput\u001b[39;49m\u001b[43m(\u001b[49m\u001b[38;5;124;43m\"\u001b[39;49m\u001b[38;5;124;43mYou: \u001b[39;49m\u001b[38;5;124;43m\"\u001b[39;49m\u001b[43m)\u001b[49m\n\u001b[1;32m     40\u001b[0m     \u001b[38;5;28;01mif\u001b[39;00m user_input\u001b[38;5;241m.\u001b[39mlower() \u001b[38;5;241m==\u001b[39m \u001b[38;5;124m'\u001b[39m\u001b[38;5;124mquit\u001b[39m\u001b[38;5;124m'\u001b[39m:\n\u001b[1;32m     41\u001b[0m         \u001b[38;5;28;01mbreak\u001b[39;00m\n",
      "File \u001b[0;32m/opt/conda/lib/python3.10/site-packages/ipykernel/kernelbase.py:1190\u001b[0m, in \u001b[0;36mKernel.raw_input\u001b[0;34m(self, prompt)\u001b[0m\n\u001b[1;32m   1188\u001b[0m \u001b[38;5;28;01mif\u001b[39;00m \u001b[38;5;129;01mnot\u001b[39;00m \u001b[38;5;28mself\u001b[39m\u001b[38;5;241m.\u001b[39m_allow_stdin:\n\u001b[1;32m   1189\u001b[0m     msg \u001b[38;5;241m=\u001b[39m \u001b[38;5;124m\"\u001b[39m\u001b[38;5;124mraw_input was called, but this frontend does not support input requests.\u001b[39m\u001b[38;5;124m\"\u001b[39m\n\u001b[0;32m-> 1190\u001b[0m     \u001b[38;5;28;01mraise\u001b[39;00m StdinNotImplementedError(msg)\n\u001b[1;32m   1191\u001b[0m \u001b[38;5;28;01mreturn\u001b[39;00m \u001b[38;5;28mself\u001b[39m\u001b[38;5;241m.\u001b[39m_input_request(\n\u001b[1;32m   1192\u001b[0m     \u001b[38;5;28mstr\u001b[39m(prompt),\n\u001b[1;32m   1193\u001b[0m     \u001b[38;5;28mself\u001b[39m\u001b[38;5;241m.\u001b[39m_parent_ident[\u001b[38;5;124m\"\u001b[39m\u001b[38;5;124mshell\u001b[39m\u001b[38;5;124m\"\u001b[39m],\n\u001b[1;32m   1194\u001b[0m     \u001b[38;5;28mself\u001b[39m\u001b[38;5;241m.\u001b[39mget_parent(\u001b[38;5;124m\"\u001b[39m\u001b[38;5;124mshell\u001b[39m\u001b[38;5;124m\"\u001b[39m),\n\u001b[1;32m   1195\u001b[0m     password\u001b[38;5;241m=\u001b[39m\u001b[38;5;28;01mFalse\u001b[39;00m,\n\u001b[1;32m   1196\u001b[0m )\n",
      "\u001b[0;31mStdinNotImplementedError\u001b[0m: raw_input was called, but this frontend does not support input requests."
     ]
    }
   ],
   "source": [
    "if __name__ == \"__main__\":\n",
    "    chatbot()"
   ]
  },
  {
   "cell_type": "code",
   "execution_count": null,
   "id": "3113b1ae",
   "metadata": {
    "papermill": {
     "duration": null,
     "end_time": null,
     "exception": null,
     "start_time": null,
     "status": "pending"
    },
    "tags": []
   },
   "outputs": [],
   "source": []
  }
 ],
 "metadata": {
  "kernelspec": {
   "display_name": "Python 3",
   "language": "python",
   "name": "python3"
  },
  "language_info": {
   "codemirror_mode": {
    "name": "ipython",
    "version": 3
   },
   "file_extension": ".py",
   "mimetype": "text/x-python",
   "name": "python",
   "nbconvert_exporter": "python",
   "pygments_lexer": "ipython3",
   "version": "3.10.10"
  },
  "papermill": {
   "default_parameters": {},
   "duration": 13.929205,
   "end_time": "2023-05-19T21:52:54.936860",
   "environment_variables": {},
   "exception": true,
   "input_path": "__notebook__.ipynb",
   "output_path": "__notebook__.ipynb",
   "parameters": {},
   "start_time": "2023-05-19T21:52:41.007655",
   "version": "2.4.0"
  }
 },
 "nbformat": 4,
 "nbformat_minor": 5
}
