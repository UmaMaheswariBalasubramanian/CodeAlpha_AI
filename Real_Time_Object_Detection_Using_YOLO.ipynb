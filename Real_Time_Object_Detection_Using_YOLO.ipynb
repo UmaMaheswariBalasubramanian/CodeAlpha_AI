{
  "cells": [
    {
      "metadata": {
        "id": "kAWeIGT0ScxA"
      },
      "cell_type": "markdown",
      "source": [
        "#Real Time Object Detection\n",
        "\n",
        "It will be implemented in the following steps:-\n",
        "\n",
        "\n",
        "*   Installing required libraries\n",
        "*   Getting pre-trained YOLO weights\n",
        "*  Instanriating YOLO\n",
        "*Reading a image\n",
        "* Detecting objects in the image\n",
        "\n"
      ]
    },
    {
      "metadata": {
        "id": "yONFMMifKN60"
      },
      "cell_type": "markdown",
      "source": [
        "**Original Reaserch Work**\n",
        "[You Only Look Once: Unified, Real-Time Object Detection](https://arxiv.org/abs/1506.02640)"
      ]
    },
    {
      "metadata": {
        "id": "cUnJdDrNJNlG"
      },
      "cell_type": "markdown",
      "source": [
        "![alt text](https://ai2-s2-public.s3.amazonaws.com/figures/2017-08-08/21a1654b856cf0c64e60e58258669b374cb05539/2-Figure1-1.png)"
      ]
    },
    {
      "metadata": {
        "id": "x4L9qErcTvJg"
      },
      "cell_type": "markdown",
      "source": [
        "#Installing ImageAI"
      ]
    },
    {
      "metadata": {
        "id": "08NtzakMmtXE",
        "trusted": true
      },
      "cell_type": "code",
      "source": [
        "!pip3 install https://github.com/OlafenwaMoses/ImageAI/releases/download/2.0.2/imageai-2.0.2-py3-none-any.whl"
      ],
      "execution_count": null,
      "outputs": []
    },
    {
      "metadata": {
        "id": "esq_FthgT1e2"
      },
      "cell_type": "markdown",
      "source": [
        "#Getting pre-trained YOLO weights"
      ]
    },
    {
      "metadata": {
        "id": "ojFzfV_bmzir",
        "trusted": true
      },
      "cell_type": "code",
      "source": [
        "!wget https://github.com/OlafenwaMoses/ImageAI/releases/download/1.0/yolo.h5"
      ],
      "execution_count": null,
      "outputs": []
    },
    {
      "metadata": {
        "id": "tEADqI-nT7RZ"
      },
      "cell_type": "markdown",
      "source": [
        "Downgrading TensorFlow"
      ]
    },
    {
      "metadata": {
        "id": "v1zEhkcZsEzu",
        "trusted": true
      },
      "cell_type": "code",
      "source": [
        "!pip install tensorflow==1.14.0\n",
        "!pip install keras==2.2.0"
      ],
      "execution_count": null,
      "outputs": []
    },
    {
      "metadata": {
        "id": "ZepsHrzSottD",
        "trusted": true
      },
      "cell_type": "code",
      "source": [
        "import tensorflow as tf\n",
        "print(tf.__version__)"
      ],
      "execution_count": null,
      "outputs": []
    },
    {
      "metadata": {
        "id": "PZXAj5w-UBon"
      },
      "cell_type": "markdown",
      "source": [
        "#Instantiate YOLO"
      ]
    },
    {
      "metadata": {
        "id": "_T-mp-jfK2rV"
      },
      "cell_type": "markdown",
      "source": [
        "**ImageAI Documentation**\n",
        "[Detection Classes](https://imageai.readthedocs.io/en/latest/detection/)"
      ]
    },
    {
      "metadata": {
        "id": "qrcn-anwuc9Q",
        "trusted": true
      },
      "cell_type": "code",
      "source": [
        "from imageai.Detection import ObjectDetection\n",
        "import os\n",
        "import time\n",
        "\n",
        "exec_path = os.getcwd()\n",
        "yolo_obj = ObjectDetection()\n",
        "yolo_obj.setModelTypeAsYOLOv3()\n",
        "yolo_obj.setModelPath( os.path.join(exec_path , \"yolo.h5\"))\n",
        "yolo_obj.loadModel()"
      ],
      "execution_count": null,
      "outputs": []
    },
    {
      "metadata": {
        "id": "00HaMSteUIfX"
      },
      "cell_type": "markdown",
      "source": [
        "#Reading image"
      ]
    },
    {
      "metadata": {
        "id": "-EsaQuCdD6cE",
        "trusted": true
      },
      "cell_type": "code",
      "source": [
        "from PIL import Image"
      ],
      "execution_count": null,
      "outputs": []
    },
    {
      "metadata": {
        "id": "CIN3U-0Kwxd6",
        "trusted": true
      },
      "cell_type": "code",
      "source": [
        "Image.open(\"../input/object-detect-images/img1.jpg\")"
      ],
      "execution_count": null,
      "outputs": []
    },
    {
      "metadata": {
        "id": "7dFstNZ1UMjy"
      },
      "cell_type": "markdown",
      "source": [
        "#Detecting object in the image"
      ]
    },
    {
      "metadata": {
        "id": "kLSt1LuUw1UI",
        "trusted": true
      },
      "cell_type": "code",
      "source": [
        "start = time.time()\n",
        "detections = yolo_obj.detectObjectsFromImage(input_image=os.path.join(exec_path , \"../input/object-detect-images/img1.jpg\"), output_image_path=os.path.join(exec_path , \"out_img1.jpg\"))\n",
        "print('Time Taken (in seconds)',time.time() - start)\n",
        "for eachObject in detections:\n",
        "    print(eachObject[\"name\"] , \" : \" , eachObject[\"percentage_probability\"] )\n",
        "Image.open(\"out_img1.jpg\")"
      ],
      "execution_count": null,
      "outputs": []
    },
    {
      "metadata": {
        "id": "-QS2plVZUQfG"
      },
      "cell_type": "markdown",
      "source": [
        "#Object detection in the second image"
      ]
    },
    {
      "metadata": {
        "id": "O-R1QxrfvX_Z",
        "trusted": true
      },
      "cell_type": "code",
      "source": [
        "Image.open(\"../input/object-detect-images/img2.jpg\")"
      ],
      "execution_count": null,
      "outputs": []
    },
    {
      "metadata": {
        "id": "LnYQXNuGviZQ",
        "trusted": true
      },
      "cell_type": "code",
      "source": [
        "start = time.time()\n",
        "detections = yolo_obj.detectObjectsFromImage(input_image=os.path.join(exec_path , \"../input/object-detect-images/img2.jpg\"), output_image_path=os.path.join(exec_path , \"out_img2.jpg\"))\n",
        "print('Time Taken (in seconds)',time.time() - start)\n",
        "for eachObject in detections:\n",
        "    print(eachObject[\"name\"] , \" : \" , eachObject[\"percentage_probability\"] )\n",
        "Image.open(\"out_img2.jpg\")"
      ],
      "execution_count": null,
      "outputs": []
    },
    {
      "metadata": {
        "id": "07zUuTzjUW4e"
      },
      "cell_type": "markdown",
      "source": [
        "#Object detection in the third image"
      ]
    },
    {
      "metadata": {
        "id": "K2jtA5kdvn2P",
        "trusted": true
      },
      "cell_type": "code",
      "source": [
        "Image.open(\"../input/object-detect-images/img3.jpg\")"
      ],
      "execution_count": null,
      "outputs": []
    },
    {
      "metadata": {
        "id": "1uFpgZ-VvxqP",
        "trusted": true
      },
      "cell_type": "code",
      "source": [
        "start = time.time()\n",
        "detections = yolo_obj.detectObjectsFromImage(input_image=os.path.join(exec_path , \"../input/object-detect-images/img3.jpg\"), output_image_path=os.path.join(exec_path , \"out_img3.jpg\"))\n",
        "print('Time Taken (in seconds)',time.time() - start)\n",
        "for eachObject in detections:\n",
        "    print(eachObject[\"name\"] , \" : \" , eachObject[\"percentage_probability\"] )\n",
        "Image.open(\"out_img3.jpg\")"
      ],
      "execution_count": null,
      "outputs": []
    },
    {
      "metadata": {
        "id": "NI55CwAFUctx"
      },
      "cell_type": "markdown",
      "source": [
        "#Object detetcion in the fourth image"
      ]
    },
    {
      "metadata": {
        "id": "pLzo8bqj_Z8G",
        "trusted": true
      },
      "cell_type": "code",
      "source": [
        "Image.open(\"../input/object-detect-images/img4.jpg\")"
      ],
      "execution_count": null,
      "outputs": []
    },
    {
      "metadata": {
        "id": "45OoUsa5v6AR",
        "trusted": true
      },
      "cell_type": "code",
      "source": [
        "start = time.time()\n",
        "detections = yolo_obj.detectObjectsFromImage(input_image=os.path.join(exec_path , \"../input/object-detect-images/img4.jpg\"), output_image_path=os.path.join(exec_path , \"out_img_4.jpg\"))\n",
        "print('Time Taken (in seconds)',time.time() - start)\n",
        "for eachObject in detections:\n",
        "    print(eachObject[\"name\"] , \" : \" , eachObject[\"percentage_probability\"] )\n",
        "Image.open(\"out_img_4.jpg\")"
      ],
      "execution_count": null,
      "outputs": []
    }
  ],
  "metadata": {
    "kernelspec": {
      "language": "python",
      "display_name": "Python 3",
      "name": "python3"
    },
    "language_info": {
      "pygments_lexer": "ipython3",
      "nbconvert_exporter": "python",
      "version": "3.6.4",
      "file_extension": ".py",
      "codemirror_mode": {
        "name": "ipython",
        "version": 3
      },
      "name": "python",
      "mimetype": "text/x-python"
    },
    "colab": {
      "name": "Real-Time Object Detection Using YOLO",
      "provenance": []
    }
  },
  "nbformat": 4,
  "nbformat_minor": 0
}